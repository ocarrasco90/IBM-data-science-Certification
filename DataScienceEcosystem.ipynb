{
 "cells": [
  {
   "cell_type": "markdown",
   "id": "3f89fbfb-0582-41ea-bae4-1e217fab3ecc",
   "metadata": {},
   "source": [
    "# Data Science Tools and Ecosystem"
   ]
  },
  {
   "cell_type": "markdown",
   "id": "7e1b1d7c-b553-4ca3-bf60-94f6c19a10ef",
   "metadata": {},
   "source": [
    "## Author\n",
    "\n",
    "Omar Carrasco"
   ]
  },
  {
   "cell_type": "markdown",
   "id": "0fbe70a0-7eae-43f7-a534-bc4ea3bd56f1",
   "metadata": {},
   "source": [
    "In this notebook, Data Science Tools and Ecosystem are summarized."
   ]
  },
  {
   "cell_type": "markdown",
   "id": "c5f3b580-5299-4989-83db-1b3494be1caf",
   "metadata": {},
   "source": [
    "**Objectives:**\n",
    "* Data Science Languages\n",
    "* Data Science Libraries \n",
    "* Data Science Tools\n",
    "* Code examples"
   ]
  },
  {
   "cell_type": "markdown",
   "id": "28b1c33a-ffac-4615-85bf-452bc7cdecc0",
   "metadata": {},
   "source": [
    "Some of the popular languages that Data Scientists use are:\n",
    "1. Python\n",
    "2. R\n",
    "3. Julia"
   ]
  },
  {
   "cell_type": "markdown",
   "id": "35ad00c4-744e-4d81-870d-c76c32af4e98",
   "metadata": {},
   "source": [
    "Some of the commonly used libraries used by Data Scientists include:\n",
    "1. NumPy (python)   \n",
    "2. Pandas (python)\n",
    "3. Matplotlib (python)\n",
    "4. Tidyverse (r) \n",
    "5. Caret (r)"
   ]
  },
  {
   "cell_type": "markdown",
   "id": "09181d6e-ee40-4ace-8a8a-061c08b8881d",
   "metadata": {},
   "source": [
    "|Data Science Tools|\n",
    "|----------------|\n",
    "|Anaconda|\n",
    "|R Studio|\n",
    "|TensorFlow|"
   ]
  },
  {
   "cell_type": "markdown",
   "id": "b3f43a0c-461a-45f6-80de-ac30ff7f148d",
   "metadata": {},
   "source": [
    "### Below are a few examples of evaluating arithmetic expressions in Python"
   ]
  },
  {
   "cell_type": "markdown",
   "id": "720a947d-f3eb-4003-a6ba-853ddc2455a2",
   "metadata": {},
   "source": [
    " This a simple arithmetic expression to mutiply then add integers"
   ]
  },
  {
   "cell_type": "code",
   "execution_count": 4,
   "id": "9ea984b7-855f-41ad-82fa-12448ccb444c",
   "metadata": {
    "tags": []
   },
   "outputs": [
    {
     "data": {
      "text/plain": [
       "17"
      ]
     },
     "execution_count": 4,
     "metadata": {},
     "output_type": "execute_result"
    }
   ],
   "source": [
    " (3*4)+5"
   ]
  },
  {
   "cell_type": "markdown",
   "id": "b1049b45-0253-498e-9508-f11f0df042ff",
   "metadata": {},
   "source": [
    "This will convert 200 minutes to hours by diving by 60"
   ]
  },
  {
   "cell_type": "code",
   "execution_count": 6,
   "id": "9dfda5c9-8e3f-40c2-9306-f6e50f88bb17",
   "metadata": {
    "tags": []
   },
   "outputs": [
    {
     "data": {
      "text/plain": [
       "3.3333333333333335"
      ]
     },
     "execution_count": 6,
     "metadata": {},
     "output_type": "execute_result"
    }
   ],
   "source": [
    "totalminutes = 200\n",
    "minutesperhour = 60 \n",
    "totalminutes/minutesperhour"
   ]
  },
  {
   "cell_type": "code",
   "execution_count": null,
   "id": "9cec9001-1419-45c1-866b-0362924958a0",
   "metadata": {},
   "outputs": [],
   "source": []
  }
 ],
 "metadata": {
  "kernelspec": {
   "display_name": "Python",
   "language": "python",
   "name": "conda-env-python-py"
  },
  "language_info": {
   "codemirror_mode": {
    "name": "ipython",
    "version": 3
   },
   "file_extension": ".py",
   "mimetype": "text/x-python",
   "name": "python",
   "nbconvert_exporter": "python",
   "pygments_lexer": "ipython3",
   "version": "3.7.12"
  }
 },
 "nbformat": 4,
 "nbformat_minor": 5
}
